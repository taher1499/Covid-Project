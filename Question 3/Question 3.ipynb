{
 "cells": [
  {
   "cell_type": "code",
   "execution_count": 144,
   "metadata": {},
   "outputs": [],
   "source": [
    "import pandas as pd\n",
    "import numpy as np"
   ]
  },
  {
   "cell_type": "code",
   "execution_count": 145,
   "metadata": {},
   "outputs": [],
   "source": [
    "# pd.set_option('display.max_rows', 500)\n",
    "pd.set_option('display.max_columns', 500)\n",
    "# pd.set_option('display.width', 1000)\n",
    "# pd.set_option('display.expand_frame_repr', True)"
   ]
  },
  {
   "cell_type": "code",
   "execution_count": 146,
   "metadata": {},
   "outputs": [],
   "source": [
    "import scipy\n",
    "import matplotlib.pyplot as plt\n",
    "%matplotlib inline\n",
    "import seaborn as sns\n",
    "import random\n",
    "import datetime\n",
    "import warnings\n",
    "warnings.filterwarnings('ignore')"
   ]
  },
  {
   "cell_type": "code",
   "execution_count": 147,
   "metadata": {},
   "outputs": [],
   "source": [
    "from matplotlib import rcParams\n",
    "#colorbrewer2 Dark2 qualitative color table\n",
    "dark2_colors = [(0.10588235294117647, 0.6196078431372549, 0.4666666666666667),\n",
    "                (0.8509803921568627, 0.37254901960784315, 0.00784313725490196),\n",
    "                (0.4588235294117647, 0.4392156862745098, 0.7019607843137254),\n",
    "                (0.9058823529411765, 0.1607843137254902, 0.5411764705882353),\n",
    "                (0.4, 0.6509803921568628, 0.11764705882352941),\n",
    "                (0.9019607843137255, 0.6705882352941176, 0.00784313725490196),\n",
    "                (0.6509803921568628, 0.4627450980392157, 0.11372549019607843)]\n",
    "\n",
    "rcParams['figure.figsize'] = (10, 4)\n",
    "rcParams['figure.dpi'] = 150\n",
    "#rcParams['axes.color_cycle'] = dark2_colors\n",
    "rcParams['lines.linewidth'] = 2\n",
    "rcParams['font.size'] = 8\n",
    "rcParams['patch.edgecolor'] = 'white'\n",
    "rcParams['patch.facecolor'] = dark2_colors[0]\n",
    "rcParams['font.family'] = 'StixGeneral'\n",
    "rcParams['axes.grid'] = True\n",
    "rcParams['axes.facecolor'] = '#eeeeee'"
   ]
  },
  {
   "cell_type": "code",
   "execution_count": 148,
   "metadata": {},
   "outputs": [],
   "source": [
    "age_group=pd.read_csv('AgeGroupDetails.csv')\n",
    "covid=pd.read_csv('covid_19_india.csv')\n",
    "hospitalbeds=pd.read_csv('HospitalBedsIndia.csv')\n",
    "testing=pd.read_csv('ICMRTestingDetails.csv')\n",
    "individual=pd.read_csv('IndividualDetails.csv')\n",
    "population=pd.read_csv('population_india_census2011.csv')"
   ]
  },
  {
   "cell_type": "code",
   "execution_count": 149,
   "metadata": {},
   "outputs": [],
   "source": [
    "#Converting the Date column into date-time format\n",
    "\n",
    "covid['Date'] =  covid['Date'].apply(lambda x:pd.to_datetime(x, format='%d-%m-%Y'))"
   ]
  },
  {
   "cell_type": "code",
   "execution_count": 150,
   "metadata": {},
   "outputs": [],
   "source": [
    "#Dropping the unnescesary columns\n",
    "\n",
    "intensity=covid.drop(['Sno','Time','ConfirmedIndianNational','ConfirmedForeignNational','Deaths','Cured'],axis=1)"
   ]
  },
  {
   "cell_type": "code",
   "execution_count": 151,
   "metadata": {},
   "outputs": [],
   "source": [
    "#Converting Population Density from object to float\n",
    "\n",
    "population['Density']=population['Density'].apply(lambda x:x.split('/km2')[0]).astype(float)"
   ]
  },
  {
   "cell_type": "code",
   "execution_count": 152,
   "metadata": {},
   "outputs": [],
   "source": [
    "#Creating new dataframe that contains both population density and number of cases\n",
    "\n",
    "q3=pd.merge(intensity,population,how='left',left_on='State/UnionTerritory',right_on='State / Union Territory')"
   ]
  },
  {
   "cell_type": "code",
   "execution_count": 153,
   "metadata": {},
   "outputs": [],
   "source": [
    "#Dropping the unnescesary columns\n",
    "\n",
    "q3.drop(['Sno','Population','Rural population','Rural population','Urban population','Area','Gender Ratio','State / Union Territory'],axis=1,inplace=True)"
   ]
  },
  {
   "cell_type": "code",
   "execution_count": 154,
   "metadata": {},
   "outputs": [],
   "source": [
    "#Calculating Intensity of the spread\n",
    "\n",
    "q3['Intensity']=q3['Confirmed']/q3['Density']"
   ]
  },
  {
   "cell_type": "code",
   "execution_count": 155,
   "metadata": {},
   "outputs": [
    {
     "data": {
      "text/plain": [
       "(array([801, 802, 803, 804, 805, 806, 807, 808, 809, 810, 811, 812, 813,\n",
       "        814, 815, 816, 817, 818, 819, 820, 821, 822, 823, 824, 825, 826,\n",
       "        827, 828, 829, 830, 831], dtype=int64),)"
      ]
     },
     "execution_count": 155,
     "metadata": {},
     "output_type": "execute_result"
    }
   ],
   "source": [
    "#Considering data only till 10th April 2020 (Since this was what was asked in the rest of the questions)\n",
    "\n",
    "np.where(q3[\"Date\"] == '2020-04-10')"
   ]
  },
  {
   "cell_type": "code",
   "execution_count": 156,
   "metadata": {},
   "outputs": [],
   "source": [
    "q3 = q3[q3.index <= 831]"
   ]
  },
  {
   "cell_type": "code",
   "execution_count": 157,
   "metadata": {},
   "outputs": [
    {
     "data": {
      "text/html": [
       "<div>\n",
       "<style scoped>\n",
       "    .dataframe tbody tr th:only-of-type {\n",
       "        vertical-align: middle;\n",
       "    }\n",
       "\n",
       "    .dataframe tbody tr th {\n",
       "        vertical-align: top;\n",
       "    }\n",
       "\n",
       "    .dataframe thead th {\n",
       "        text-align: right;\n",
       "    }\n",
       "</style>\n",
       "<table border=\"1\" class=\"dataframe\">\n",
       "  <thead>\n",
       "    <tr style=\"text-align: right;\">\n",
       "      <th></th>\n",
       "      <th>Date</th>\n",
       "      <th>State/UnionTerritory</th>\n",
       "      <th>Confirmed</th>\n",
       "      <th>Density</th>\n",
       "      <th>Intensity</th>\n",
       "    </tr>\n",
       "  </thead>\n",
       "  <tbody>\n",
       "    <tr>\n",
       "      <th>0</th>\n",
       "      <td>2020-01-30</td>\n",
       "      <td>Kerala</td>\n",
       "      <td>1</td>\n",
       "      <td>859.0</td>\n",
       "      <td>0.001164</td>\n",
       "    </tr>\n",
       "    <tr>\n",
       "      <th>1</th>\n",
       "      <td>2020-01-31</td>\n",
       "      <td>Kerala</td>\n",
       "      <td>1</td>\n",
       "      <td>859.0</td>\n",
       "      <td>0.001164</td>\n",
       "    </tr>\n",
       "    <tr>\n",
       "      <th>2</th>\n",
       "      <td>2020-02-01</td>\n",
       "      <td>Kerala</td>\n",
       "      <td>2</td>\n",
       "      <td>859.0</td>\n",
       "      <td>0.002328</td>\n",
       "    </tr>\n",
       "    <tr>\n",
       "      <th>3</th>\n",
       "      <td>2020-02-02</td>\n",
       "      <td>Kerala</td>\n",
       "      <td>3</td>\n",
       "      <td>859.0</td>\n",
       "      <td>0.003492</td>\n",
       "    </tr>\n",
       "    <tr>\n",
       "      <th>4</th>\n",
       "      <td>2020-02-03</td>\n",
       "      <td>Kerala</td>\n",
       "      <td>3</td>\n",
       "      <td>859.0</td>\n",
       "      <td>0.003492</td>\n",
       "    </tr>\n",
       "    <tr>\n",
       "      <th>...</th>\n",
       "      <td>...</td>\n",
       "      <td>...</td>\n",
       "      <td>...</td>\n",
       "      <td>...</td>\n",
       "      <td>...</td>\n",
       "    </tr>\n",
       "    <tr>\n",
       "      <th>827</th>\n",
       "      <td>2020-04-10</td>\n",
       "      <td>Telengana</td>\n",
       "      <td>473</td>\n",
       "      <td>312.0</td>\n",
       "      <td>1.516026</td>\n",
       "    </tr>\n",
       "    <tr>\n",
       "      <th>828</th>\n",
       "      <td>2020-04-10</td>\n",
       "      <td>Tripura</td>\n",
       "      <td>1</td>\n",
       "      <td>350.0</td>\n",
       "      <td>0.002857</td>\n",
       "    </tr>\n",
       "    <tr>\n",
       "      <th>829</th>\n",
       "      <td>2020-04-10</td>\n",
       "      <td>Uttarakhand</td>\n",
       "      <td>35</td>\n",
       "      <td>189.0</td>\n",
       "      <td>0.185185</td>\n",
       "    </tr>\n",
       "    <tr>\n",
       "      <th>830</th>\n",
       "      <td>2020-04-10</td>\n",
       "      <td>Uttar Pradesh</td>\n",
       "      <td>431</td>\n",
       "      <td>828.0</td>\n",
       "      <td>0.520531</td>\n",
       "    </tr>\n",
       "    <tr>\n",
       "      <th>831</th>\n",
       "      <td>2020-04-10</td>\n",
       "      <td>West Bengal</td>\n",
       "      <td>116</td>\n",
       "      <td>1029.0</td>\n",
       "      <td>0.112731</td>\n",
       "    </tr>\n",
       "  </tbody>\n",
       "</table>\n",
       "<p>832 rows × 5 columns</p>\n",
       "</div>"
      ],
      "text/plain": [
       "          Date State/UnionTerritory  Confirmed  Density  Intensity\n",
       "0   2020-01-30               Kerala          1    859.0   0.001164\n",
       "1   2020-01-31               Kerala          1    859.0   0.001164\n",
       "2   2020-02-01               Kerala          2    859.0   0.002328\n",
       "3   2020-02-02               Kerala          3    859.0   0.003492\n",
       "4   2020-02-03               Kerala          3    859.0   0.003492\n",
       "..         ...                  ...        ...      ...        ...\n",
       "827 2020-04-10            Telengana        473    312.0   1.516026\n",
       "828 2020-04-10              Tripura          1    350.0   0.002857\n",
       "829 2020-04-10          Uttarakhand         35    189.0   0.185185\n",
       "830 2020-04-10        Uttar Pradesh        431    828.0   0.520531\n",
       "831 2020-04-10          West Bengal        116   1029.0   0.112731\n",
       "\n",
       "[832 rows x 5 columns]"
      ]
     },
     "execution_count": 157,
     "metadata": {},
     "output_type": "execute_result"
    }
   ],
   "source": [
    "q3"
   ]
  },
  {
   "cell_type": "code",
   "execution_count": 158,
   "metadata": {},
   "outputs": [],
   "source": [
    "q3= q3[q3['State/UnionTerritory']!='Jharkhand#']"
   ]
  },
  {
   "cell_type": "code",
   "execution_count": 159,
   "metadata": {},
   "outputs": [],
   "source": [
    "q3=q3[q3['State/UnionTerritory']!='Unassigned']"
   ]
  },
  {
   "cell_type": "code",
   "execution_count": 160,
   "metadata": {},
   "outputs": [],
   "source": [
    "q3=q3[q3['State/UnionTerritory']!='Nagaland#']"
   ]
  },
  {
   "cell_type": "code",
   "execution_count": 169,
   "metadata": {},
   "outputs": [
    {
     "data": {
      "text/html": [
       "<div>\n",
       "<style scoped>\n",
       "    .dataframe tbody tr th:only-of-type {\n",
       "        vertical-align: middle;\n",
       "    }\n",
       "\n",
       "    .dataframe tbody tr th {\n",
       "        vertical-align: top;\n",
       "    }\n",
       "\n",
       "    .dataframe thead th {\n",
       "        text-align: right;\n",
       "    }\n",
       "</style>\n",
       "<table border=\"1\" class=\"dataframe\">\n",
       "  <thead>\n",
       "    <tr style=\"text-align: right;\">\n",
       "      <th></th>\n",
       "      <th>Date</th>\n",
       "      <th>State/UnionTerritory</th>\n",
       "      <th>Confirmed</th>\n",
       "      <th>Density</th>\n",
       "      <th>Intensity</th>\n",
       "    </tr>\n",
       "  </thead>\n",
       "  <tbody>\n",
       "    <tr>\n",
       "      <th>0</th>\n",
       "      <td>2020-01-30</td>\n",
       "      <td>Kerala</td>\n",
       "      <td>1</td>\n",
       "      <td>859.0</td>\n",
       "      <td>0.001164</td>\n",
       "    </tr>\n",
       "    <tr>\n",
       "      <th>1</th>\n",
       "      <td>2020-01-31</td>\n",
       "      <td>Kerala</td>\n",
       "      <td>1</td>\n",
       "      <td>859.0</td>\n",
       "      <td>0.001164</td>\n",
       "    </tr>\n",
       "    <tr>\n",
       "      <th>2</th>\n",
       "      <td>2020-02-01</td>\n",
       "      <td>Kerala</td>\n",
       "      <td>2</td>\n",
       "      <td>859.0</td>\n",
       "      <td>0.002328</td>\n",
       "    </tr>\n",
       "    <tr>\n",
       "      <th>3</th>\n",
       "      <td>2020-02-02</td>\n",
       "      <td>Kerala</td>\n",
       "      <td>3</td>\n",
       "      <td>859.0</td>\n",
       "      <td>0.003492</td>\n",
       "    </tr>\n",
       "    <tr>\n",
       "      <th>4</th>\n",
       "      <td>2020-02-03</td>\n",
       "      <td>Kerala</td>\n",
       "      <td>3</td>\n",
       "      <td>859.0</td>\n",
       "      <td>0.003492</td>\n",
       "    </tr>\n",
       "    <tr>\n",
       "      <th>...</th>\n",
       "      <td>...</td>\n",
       "      <td>...</td>\n",
       "      <td>...</td>\n",
       "      <td>...</td>\n",
       "      <td>...</td>\n",
       "    </tr>\n",
       "    <tr>\n",
       "      <th>827</th>\n",
       "      <td>2020-04-10</td>\n",
       "      <td>Telengana</td>\n",
       "      <td>473</td>\n",
       "      <td>312.0</td>\n",
       "      <td>1.516026</td>\n",
       "    </tr>\n",
       "    <tr>\n",
       "      <th>828</th>\n",
       "      <td>2020-04-10</td>\n",
       "      <td>Tripura</td>\n",
       "      <td>1</td>\n",
       "      <td>350.0</td>\n",
       "      <td>0.002857</td>\n",
       "    </tr>\n",
       "    <tr>\n",
       "      <th>829</th>\n",
       "      <td>2020-04-10</td>\n",
       "      <td>Uttarakhand</td>\n",
       "      <td>35</td>\n",
       "      <td>189.0</td>\n",
       "      <td>0.185185</td>\n",
       "    </tr>\n",
       "    <tr>\n",
       "      <th>830</th>\n",
       "      <td>2020-04-10</td>\n",
       "      <td>Uttar Pradesh</td>\n",
       "      <td>431</td>\n",
       "      <td>828.0</td>\n",
       "      <td>0.520531</td>\n",
       "    </tr>\n",
       "    <tr>\n",
       "      <th>831</th>\n",
       "      <td>2020-04-10</td>\n",
       "      <td>West Bengal</td>\n",
       "      <td>116</td>\n",
       "      <td>1029.0</td>\n",
       "      <td>0.112731</td>\n",
       "    </tr>\n",
       "  </tbody>\n",
       "</table>\n",
       "<p>829 rows × 5 columns</p>\n",
       "</div>"
      ],
      "text/plain": [
       "          Date State/UnionTerritory  Confirmed  Density  Intensity\n",
       "0   2020-01-30               Kerala          1    859.0   0.001164\n",
       "1   2020-01-31               Kerala          1    859.0   0.001164\n",
       "2   2020-02-01               Kerala          2    859.0   0.002328\n",
       "3   2020-02-02               Kerala          3    859.0   0.003492\n",
       "4   2020-02-03               Kerala          3    859.0   0.003492\n",
       "..         ...                  ...        ...      ...        ...\n",
       "827 2020-04-10            Telengana        473    312.0   1.516026\n",
       "828 2020-04-10              Tripura          1    350.0   0.002857\n",
       "829 2020-04-10          Uttarakhand         35    189.0   0.185185\n",
       "830 2020-04-10        Uttar Pradesh        431    828.0   0.520531\n",
       "831 2020-04-10          West Bengal        116   1029.0   0.112731\n",
       "\n",
       "[829 rows x 5 columns]"
      ]
     },
     "execution_count": 169,
     "metadata": {},
     "output_type": "execute_result"
    }
   ],
   "source": [
    "q3"
   ]
  },
  {
   "cell_type": "code",
   "execution_count": 161,
   "metadata": {},
   "outputs": [],
   "source": [
    "q3_20th_March=q3[q3['Date']=='2020-03-20']"
   ]
  },
  {
   "cell_type": "code",
   "execution_count": 162,
   "metadata": {},
   "outputs": [],
   "source": [
    "q3_27th_March=q3[q3['Date']=='2020-03-27']"
   ]
  },
  {
   "cell_type": "code",
   "execution_count": 163,
   "metadata": {},
   "outputs": [],
   "source": [
    "q3_3rd_April=q3[q3['Date']=='2020-04-03']"
   ]
  },
  {
   "cell_type": "code",
   "execution_count": 164,
   "metadata": {},
   "outputs": [],
   "source": [
    "q3_10th_April=q3[q3['Date']=='2020-04-10']"
   ]
  },
  {
   "cell_type": "code",
   "execution_count": 165,
   "metadata": {},
   "outputs": [],
   "source": [
    "q3.to_csv('q3.csv')\n",
    "q3_20th_March.to_csv('q3_20th_March.csv')\n",
    "q3_27th_March.to_csv('q3_27th_March.csv')\n",
    "q3_3rd_April.to_csv('q3_3rd_April.csv')\n",
    "q3_10th_April.to_csv('q3_10th_April.csv')"
   ]
  }
 ],
 "metadata": {
  "kernelspec": {
   "display_name": "Python [conda env:newenv] *",
   "language": "python",
   "name": "conda-env-newenv-py"
  },
  "language_info": {
   "codemirror_mode": {
    "name": "ipython",
    "version": 3
   },
   "file_extension": ".py",
   "mimetype": "text/x-python",
   "name": "python",
   "nbconvert_exporter": "python",
   "pygments_lexer": "ipython3",
   "version": "3.6.10"
  }
 },
 "nbformat": 4,
 "nbformat_minor": 4
}
